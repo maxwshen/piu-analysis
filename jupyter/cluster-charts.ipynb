{
 "cells": [
  {
   "cell_type": "code",
   "execution_count": 31,
   "metadata": {
    "ExecuteTime": {
     "end_time": "2021-07-29T02:46:05.297373Z",
     "start_time": "2021-07-29T02:46:05.292807Z"
    }
   },
   "outputs": [],
   "source": [
    "import pandas as pd, numpy as np"
   ]
  },
  {
   "cell_type": "code",
   "execution_count": 165,
   "metadata": {
    "ExecuteTime": {
     "end_time": "2021-07-29T04:40:28.812183Z",
     "start_time": "2021-07-29T04:40:28.715590Z"
    }
   },
   "outputs": [
    {
     "name": "stdout",
     "output_type": "stream",
     "text": [
      "(7334, 42)\n"
     ]
    }
   ],
   "source": [
    "df = pd.read_csv('../out/cluster_featurize/cluster_features.csv', index_col=0)\n",
    "print(df.shape)"
   ]
  },
  {
   "cell_type": "code",
   "execution_count": 166,
   "metadata": {
    "ExecuteTime": {
     "end_time": "2021-07-29T04:40:32.398458Z",
     "start_time": "2021-07-29T04:40:32.390858Z"
    }
   },
   "outputs": [
    {
     "data": {
      "text/plain": [
       "Index(['Feature - Hold', 'Feature - Hold taps', 'Feature - Splits',\n",
       "       'Feature - Triple', 'Feature - Quad', 'Feature - Jump',\n",
       "       'Feature - Bracket', 'Feature - Double step', 'Feature - Footswitch',\n",
       "       'Feature - Jack', 'Feature - Bracket footswitch',\n",
       "       'Feature - Hold tap single foot', 'Feature - Hold footslide',\n",
       "       'Feature - Hold footswitch', 'Feature - Staggered hit',\n",
       "       'Feature - Hands', 'Feature - Drill', 'Feature - Run',\n",
       "       'Feature - Hold run', 'Feature - Bracket drill',\n",
       "       'Feature - Irregular rhythm', 'Feature - Rhythm change',\n",
       "       'Feature - Bracket jump run', 'Feature - Side3 singles',\n",
       "       'Feature - Mid4 doubles', 'Feature - Mid6 doubles',\n",
       "       'Feature - Run with brackets', 'Feature - Jump run',\n",
       "       'Feature - Stairs, doubles', 'Feature - Stairs, singles',\n",
       "       'Feature - Broken stairs, doubles', 'Feature - Spin',\n",
       "       'Feature - Twist solo diagonal', 'Feature - Twist angle - none',\n",
       "       'Feature - Twist angle - 90', 'Feature - Twist angle - close diagonal',\n",
       "       'Feature - Twist angle - far diagonal', 'Feature - Twist angle - 180',\n",
       "       'Name (unique)', 'Level', 'Is singles', 'Is doubles'],\n",
       "      dtype='object')"
      ]
     },
     "execution_count": 166,
     "metadata": {},
     "output_type": "execute_result"
    }
   ],
   "source": [
    "df.columns"
   ]
  },
  {
   "cell_type": "markdown",
   "metadata": {},
   "source": [
    "### test cluster"
   ]
  },
  {
   "cell_type": "code",
   "execution_count": 169,
   "metadata": {
    "ExecuteTime": {
     "end_time": "2021-07-29T04:41:39.670373Z",
     "start_time": "2021-07-29T04:41:39.660920Z"
    }
   },
   "outputs": [
    {
     "name": "stdout",
     "output_type": "stream",
     "text": [
      "['Feature - Splits', 'Feature - Triple', 'Feature - Quad', 'Feature - Jump', 'Feature - Bracket', 'Feature - Double step', 'Feature - Footswitch', 'Feature - Jack', 'Feature - Bracket footswitch', 'Feature - Hold tap single foot', 'Feature - Hold footslide', 'Feature - Hold footswitch', 'Feature - Staggered hit', 'Feature - Hands', 'Feature - Drill', 'Feature - Run', 'Feature - Bracket drill', 'Feature - Bracket jump run', 'Feature - Side3 singles', 'Feature - Mid4 doubles', 'Feature - Mid6 doubles', 'Feature - Run with brackets', 'Feature - Jump run', 'Feature - Stairs, doubles', 'Feature - Stairs, singles', 'Feature - Broken stairs, doubles', 'Feature - Spin', 'Feature - Twist solo diagonal', 'Feature - Twist angle - none', 'Feature - Twist angle - 90', 'Feature - Twist angle - close diagonal', 'Feature - Twist angle - far diagonal', 'Feature - Twist angle - 180']\n"
     ]
    }
   ],
   "source": [
    "df_subset = df.drop(columns = [\n",
    "    'Feature - Hold',\n",
    "    'Feature - Hold taps',\n",
    "    'Feature - Hold run',\n",
    "    'Feature - Irregular rhythm',\n",
    "    'Feature - Rhythm change',\n",
    "])\n",
    "\n",
    "ft_cols = [col for col in df_subset.columns if 'Feature - ' in col]\n",
    "print(ft_cols)"
   ]
  },
  {
   "cell_type": "code",
   "execution_count": 170,
   "metadata": {
    "ExecuteTime": {
     "end_time": "2021-07-29T04:41:44.689787Z",
     "start_time": "2021-07-29T04:41:44.685133Z"
    }
   },
   "outputs": [],
   "source": [
    "nm = 'Super Fantasy - SHK S16 arcade'\n",
    "\n",
    "def get_features(df, nm):\n",
    "    ft_cols = [col for col in df.columns if 'Feature - ' in col]\n",
    "    return np.array(df.loc[df['Name (unique)'] == nm, ft_cols])"
   ]
  },
  {
   "cell_type": "code",
   "execution_count": 171,
   "metadata": {
    "ExecuteTime": {
     "end_time": "2021-07-29T04:41:45.222334Z",
     "start_time": "2021-07-29T04:41:45.213919Z"
    }
   },
   "outputs": [],
   "source": [
    "def get_feature_mat(df):\n",
    "    ft_df = df.drop(columns=[c for c in df.columns if 'Feature - ' not in c])\n",
    "    return np.array(ft_df)\n",
    "\n",
    "# ft_mat = get_feature_mat(df)\n",
    "ft_mat = get_feature_mat(df_subset)\n",
    "POWER = 1\n",
    "ft_mat = ft_mat**POWER"
   ]
  },
  {
   "cell_type": "code",
   "execution_count": 173,
   "metadata": {
    "ExecuteTime": {
     "end_time": "2021-07-29T04:42:02.605826Z",
     "start_time": "2021-07-29T04:42:02.596133Z"
    }
   },
   "outputs": [
    {
     "name": "stdout",
     "output_type": "stream",
     "text": [
      "[15, 28]\n",
      "['Feature - Run', 'Feature - Twist angle - none']\n"
     ]
    }
   ],
   "source": [
    "nms = list(df['Name (unique)'])\n",
    "levels = list(df['Level'])\n",
    "idx = nms.index(nm)\n",
    "\n",
    "high_pct_jdxs = [i for i,v in enumerate(ft_mat[idx]) if v >= 0.65**POWER]\n",
    "print(high_pct_jdxs)\n",
    "print([ft_cols[j] for j in high_pct_jdxs])"
   ]
  },
  {
   "cell_type": "code",
   "execution_count": 174,
   "metadata": {
    "ExecuteTime": {
     "end_time": "2021-07-29T04:42:06.416123Z",
     "start_time": "2021-07-29T04:42:06.345416Z"
    },
    "scrolled": true
   },
   "outputs": [
    {
     "name": "stdout",
     "output_type": "stream",
     "text": [
      "['Feature - Run', 'Feature - Twist angle - none']\n",
      "13 ['Love is a Danger Zone - Banya S13 shortcut', 'God Mode 2.0 feat. Skizzo - Nato S13 arcade', 'Mexi Mexi - Mozquito S13 arcade']\n",
      "14 ['Switronic - SHORT CUT - - SHK S14 shortcut', 'HEART RABBIT COASTER - nato S14 arcade', 'Accelerator - Nitro S14 arcade']\n",
      "15 ['X Treme - BanYa S15 arcade', 'Vook - Banya S15 arcade', 'V.I.P. - Bada D15 arcade']\n",
      "16 [\"I'll Give You All My Love - Wax S16 arcade\", 'PaPa Gonzales - BanYa S16 arcade v2', 'PaPa Gonzales - BanYa S16 arcade v1']\n",
      "17 ['You Fall in Me - No Brain S17 arcade', 'msgoon RMX pt.3 - msgoon S17 remix', 'Conflict - Siromaru + Cranky S17 arcade']\n",
      "18 ['Poseidon - SHORT CUT - - Quree S18 shortcut', 'Heavy Rotation - AKB48 (Cover) S18 shortcut', 'God Mode 2.0 feat. Skizzo - Nato S18 arcade']\n"
     ]
    }
   ],
   "source": [
    "from scipy.spatial import KDTree\n",
    "\n",
    "HIGH_PCT_THRESHOLD = 0.65**POWER\n",
    "\n",
    "def get_neighbors(df, nm):\n",
    "    nms = list(df['Name (unique)'])\n",
    "    levels = list(df['Level'])\n",
    "    idx = nms.index(nm)\n",
    "\n",
    "    high_pct_jdxs = [i for i,v in enumerate(ft_mat[idx]) if v >= HIGH_PCT_THRESHOLD]\n",
    "#     print([ft_cols[j] for j in high_pct_jdxs])\n",
    "#     high_pct_jdxs += [i for i,v in enumerate(ft_mat[idx]) if v == 0]\n",
    "#     high_pct_jdxs = [ft_cols.index('Feature - Run'), ft_cols.index('Feature - Twist angle - none')]\n",
    "    print([ft_cols[j] for j in high_pct_jdxs])\n",
    "    high_pct_ft_mat = ft_mat[:, high_pct_jdxs]\n",
    "    \n",
    "    kdt = KDTree(high_pct_ft_mat)\n",
    "#     q = high_pct_ft_mat[idx]\n",
    "    q = [1] * len(high_pct_jdxs)\n",
    "    dists, ne_idxs = kdt.query(q, k=1000)\n",
    "\n",
    "    num_printed = 0\n",
    "    from collections import defaultdict\n",
    "    top3s = defaultdict(list)\n",
    "    lower_level_range = 3\n",
    "    upper_level_range = 2\n",
    "    in_range = lambda neighbor_level: levels[idx] - 3 <= neighbor_level <= levels[idx] + 2\n",
    "    for dist, ne_idx in zip(dists[1:], ne_idxs[1:]):\n",
    "        target_level = levels[ne_idx]\n",
    "        if in_range(target_level):\n",
    "#             print(f'{dist:.2f}', nms[ne_idx])\n",
    "            if len(top3s[target_level]) < 3:\n",
    "                top3s[target_level].append(nms[ne_idx])\n",
    "            num_printed += 1\n",
    "        if num_printed > 50:\n",
    "            break\n",
    "    \n",
    "    for k in sorted(top3s):\n",
    "        print(k, top3s[k])\n",
    "    return\n",
    "\n",
    "\n",
    "def get_dist(df, nm1, nm2):\n",
    "    nms = list(df['Name (unique)'])\n",
    "    levels = list(df['Level'])\n",
    "    idx = nms.index(nm)\n",
    "\n",
    "    high_pct_jdxs = [i for i,v in enumerate(ft_mat[idx]) if v >= HIGH_PCT_THRESHOLD]\n",
    "    high_pct_jdxs += [i for i,v in enumerate(ft_mat[idx]) if v == 0]\n",
    "    high_pct_ft_mat = ft_mat[:, high_pct_jdxs]\n",
    "    \n",
    "    dist = np.linalg.norm(high_pct_ft_mat[idx] - high_pct_ft_mat[nms.index(nm2)])\n",
    "    return dist\n",
    "\n",
    "\n",
    "# get_neighbors(df_subset, 'Super Fantasy - SHK S16 arcade')\n",
    "get_neighbors(df, 'Super Fantasy - SHK S16 arcade')"
   ]
  },
  {
   "cell_type": "markdown",
   "metadata": {},
   "source": [
    "### test queries"
   ]
  },
  {
   "cell_type": "code",
   "execution_count": 175,
   "metadata": {
    "ExecuteTime": {
     "end_time": "2021-07-29T04:42:17.972336Z",
     "start_time": "2021-07-29T04:42:17.898619Z"
    }
   },
   "outputs": [
    {
     "name": "stdout",
     "output_type": "stream",
     "text": [
      "['Feature - Jump', 'Feature - Mid4 doubles', 'Feature - Mid6 doubles', 'Feature - Twist angle - 90', 'Feature - Twist angle - 180']\n",
      "12 ['Rock Robotic -OSX Mix- - Oscillator X HD12 arcade', 'Switronic - SHORT CUT - - SHK D12 shortcut', 'Red Swan - Yahpp D12 arcade']\n",
      "13 [\"Bullfighting's Song - Banya Production HD13 arcade\", 'Ba Be Loo Be Ra - Kristeen D13 arcade', 'Turn Around - Mina D13 arcade']\n",
      "14 [\"One Love - S'Max D14 arcade hidden\", 'Venus - Shinhwa D14 arcade', 'YOU AND I - Dreamcatcher D14 arcade']\n",
      "15 ['Trashy Innocence - Last Note. D15 arcade', 'Jackpot - BLOCK B D15 arcade', 'NoNoNo - Apink DP15 arcade']\n",
      "16 ['Removable Disk0 - Doin D16 arcade', 'Houkago Stride - Last Note. D16 arcade', 'Black Cat - Turbo D16 arcade']\n",
      "17 ['Crossing Delta - t+pazolite+Ginkiha+Hommarju D17 arcade', 'NUMBER NINE - T-ARA D17 arcade v1', 'NUMBER NINE - T-ARA D17 arcade v2']\n"
     ]
    }
   ],
   "source": [
    "get_neighbors(df, 'Trashy Innocence - Last Note. D15 arcade')"
   ]
  },
  {
   "cell_type": "code",
   "execution_count": 176,
   "metadata": {
    "ExecuteTime": {
     "end_time": "2021-07-29T04:42:37.310458Z",
     "start_time": "2021-07-29T04:42:37.246641Z"
    }
   },
   "outputs": [
    {
     "name": "stdout",
     "output_type": "stream",
     "text": [
      "['Feature - Bracket', 'Feature - Double step', 'Feature - Twist angle - none']\n",
      "17 ['Imagination - SHK S17 arcade', 'Emperor - BanYa D17 arcade', 'Hell Flame - Diclonius Kid S17 arcade']\n",
      "18 ['Skeptic - Doin S18 arcade', 'Dance Vibrations - Elpis D18 arcade', 'Red Swan - Yahpp S18 arcade']\n",
      "19 ['Break Out - Lunatic Sounds S19 arcade', 'Bring Back The Beat - LunaticSounds S19 arcade', 'Mission Possible - BanYa S19 arcade']\n",
      "20 ['Mad5cience - Paul Bazooka S20 arcade', 'Kimchi Fingers - Garlic Squad S20 arcade', 'CHICKEN WING - Banya S20 shortcut']\n",
      "21 ['Headless Chicken - r300k S21 arcade', 'Your Mind - Roy Mikelate S21 arcade', 'Pop Sequence - Hommarju S21 arcade']\n",
      "22 ['Dream To Nightmare - Nightmare S22 arcade hidden', 'DESTRUCIMATE - KURORAK S22 arcade', 'Phalanx \"RS2018 Edit\" - Cranky S22 arcade']\n"
     ]
    }
   ],
   "source": [
    "# get_neighbors(df_subset, '8 6 - DASU S20 arcade')\n",
    "get_neighbors(df, '8 6 - DASU S20 arcade')"
   ]
  },
  {
   "cell_type": "code",
   "execution_count": 177,
   "metadata": {
    "ExecuteTime": {
     "end_time": "2021-07-29T04:42:49.256525Z",
     "start_time": "2021-07-29T04:42:49.162015Z"
    },
    "scrolled": true
   },
   "outputs": [
    {
     "name": "stdout",
     "output_type": "stream",
     "text": [
      "['Feature - Bracket', 'Feature - Bracket footswitch', 'Feature - Hold tap single foot', 'Feature - Staggered hit', 'Feature - Drill', 'Feature - Bracket drill', 'Feature - Mid4 doubles', 'Feature - Mid6 doubles', 'Feature - Twist angle - none']\n",
      "19 ['ESCAPE - D_AAN D19 arcade v1', 'ESCAPE - D_AAN D19 arcade v2', 'ESCAPE - D_AAN D19 arcade v3']\n",
      "20 ['Enhanced Reality - Matduke D20 arcade', 'Red Swan - Yahpp D20 arcade', 'Annihilator Method - DM Ashura D20 arcade']\n",
      "21 ['Feel My Happiness - 3R2 D21 arcade', 'Dawn of the Apocalypse - Vassline D21 arcade', 'Ignis Fatuus(DM Ashura Mix) - DM Ashura D21 shortcut']\n",
      "22 ['Indestructible - Matduke D22 arcade', 'What Happened - Throwdown HD22 arcade', 'Just Hold on (To All Fighters) - void D22 arcade']\n",
      "23 ['Can-can ~Orpheus in The Party Mix~ - Sr. Lan Belmont D23 arcade', 'Windmill - Yak Won D23 arcade', 'Bad End Night - HitoshizukuP x yama D23 arcade']\n",
      "24 ['Vulcan - Memme D24 remix v2', 'Banya-P Guitar Remix - Banya Production D24 remix', 'Iolite Sky - Doin D24 arcade v1']\n"
     ]
    }
   ],
   "source": [
    "get_neighbors(df, 'Rock the house - Matduke D22 arcade')"
   ]
  },
  {
   "cell_type": "markdown",
   "metadata": {},
   "source": [
    "### study features"
   ]
  },
  {
   "cell_type": "code",
   "execution_count": 104,
   "metadata": {
    "ExecuteTime": {
     "end_time": "2021-07-29T03:50:10.007383Z",
     "start_time": "2021-07-29T03:50:09.992808Z"
    }
   },
   "outputs": [
    {
     "data": {
      "text/plain": [
       "array([[0.        , 0.        , 0.        , 0.0272259 , 0.        ,\n",
       "        0.00883002, 0.        , 0.18543046, 0.        , 0.        ,\n",
       "        0.        , 0.        , 0.        , 0.        , 0.        ,\n",
       "        0.68727005, 0.        , 0.5857248 , 0.05739514, 0.        ,\n",
       "        0.        , 0.        , 0.        , 0.        , 0.        ,\n",
       "        0.        , 0.71743929, 0.        , 0.        , 0.07505519,\n",
       "        0.89551141, 0.16850625, 0.17218543, 0.        , 0.        ]])"
      ]
     },
     "execution_count": 104,
     "metadata": {},
     "output_type": "execute_result"
    }
   ],
   "source": [
    "get_features(df_subset, 'Super Fantasy - SHK S16 arcade')"
   ]
  },
  {
   "cell_type": "code",
   "execution_count": 29,
   "metadata": {
    "ExecuteTime": {
     "end_time": "2021-07-29T02:45:07.342342Z",
     "start_time": "2021-07-29T02:45:07.330921Z"
    }
   },
   "outputs": [
    {
     "data": {
      "text/plain": [
       "array([[0.        , 0.        , 0.        , 0.2520436 , 0.5006812 ,\n",
       "        0.35149864, 0.        , 0.10490463, 0.        , 0.        ,\n",
       "        0.        , 0.        , 0.        , 0.        , 0.        ,\n",
       "        0.73092643, 0.        , 0.86307902, 0.49318801, 0.        ,\n",
       "        0.51089918, 0.        , 0.        , 0.        , 0.        ,\n",
       "        0.        , 0.54700272, 0.        , 0.        , 0.28474114,\n",
       "        0.79427793, 0.26702997, 0.29972752, 0.        , 0.        ]])"
      ]
     },
     "execution_count": 29,
     "metadata": {},
     "output_type": "execute_result"
    }
   ],
   "source": [
    "get_features(df_subset, 'X-Rave - DM Ashura S17 arcade')"
   ]
  },
  {
   "cell_type": "code",
   "execution_count": 30,
   "metadata": {
    "ExecuteTime": {
     "end_time": "2021-07-29T02:45:34.486606Z",
     "start_time": "2021-07-29T02:45:34.473555Z"
    }
   },
   "outputs": [
    {
     "data": {
      "text/plain": [
       "array([[0.        , 0.        , 0.        , 0.19891008, 0.        ,\n",
       "        0.52656676, 0.        , 0.69073569, 0.        , 0.        ,\n",
       "        0.        , 0.        , 0.        , 0.        , 0.88623978,\n",
       "        0.8726158 , 0.        , 0.48024523, 0.08038147, 0.        ,\n",
       "        0.90735695, 0.        , 0.        , 0.        , 0.67166213,\n",
       "        0.        , 0.        , 0.        , 0.        , 0.        ,\n",
       "        0.98841962, 0.01362398, 0.01907357, 0.55722071, 0.        ]])"
      ]
     },
     "execution_count": 30,
     "metadata": {},
     "output_type": "execute_result"
    }
   ],
   "source": [
    "get_features(df_subset, 'Conflict - Siromaru + Cranky S17 arcade')"
   ]
  },
  {
   "cell_type": "code",
   "execution_count": 33,
   "metadata": {
    "ExecuteTime": {
     "end_time": "2021-07-29T02:46:27.436436Z",
     "start_time": "2021-07-29T02:46:27.415036Z"
    }
   },
   "outputs": [
    {
     "data": {
      "text/plain": [
       "1.8829833110672938"
      ]
     },
     "execution_count": 33,
     "metadata": {},
     "output_type": "execute_result"
    }
   ],
   "source": [
    "np.linalg.norm(\n",
    "    get_features(df_subset, 'Super Fantasy - SHK S16 arcade') -\n",
    "    get_features(df_subset, 'Conflict - Siromaru + Cranky S17 arcade')\n",
    ")"
   ]
  },
  {
   "cell_type": "code",
   "execution_count": 168,
   "metadata": {
    "ExecuteTime": {
     "end_time": "2021-07-29T04:40:51.029445Z",
     "start_time": "2021-07-29T04:40:51.003425Z"
    }
   },
   "outputs": [
    {
     "data": {
      "text/html": [
       "<div>\n",
       "<style scoped>\n",
       "    .dataframe tbody tr th:only-of-type {\n",
       "        vertical-align: middle;\n",
       "    }\n",
       "\n",
       "    .dataframe tbody tr th {\n",
       "        vertical-align: top;\n",
       "    }\n",
       "\n",
       "    .dataframe thead th {\n",
       "        text-align: right;\n",
       "    }\n",
       "</style>\n",
       "<table border=\"1\" class=\"dataframe\">\n",
       "  <thead>\n",
       "    <tr style=\"text-align: right;\">\n",
       "      <th></th>\n",
       "      <th>3588</th>\n",
       "      <th>3676</th>\n",
       "      <th>3881</th>\n",
       "    </tr>\n",
       "  </thead>\n",
       "  <tbody>\n",
       "    <tr>\n",
       "      <th>Feature - Splits</th>\n",
       "      <td>0</td>\n",
       "      <td>0</td>\n",
       "      <td>0</td>\n",
       "    </tr>\n",
       "    <tr>\n",
       "      <th>Feature - Triple</th>\n",
       "      <td>0</td>\n",
       "      <td>0</td>\n",
       "      <td>0</td>\n",
       "    </tr>\n",
       "    <tr>\n",
       "      <th>Feature - Quad</th>\n",
       "      <td>0</td>\n",
       "      <td>0</td>\n",
       "      <td>0</td>\n",
       "    </tr>\n",
       "    <tr>\n",
       "      <th>Feature - Jump</th>\n",
       "      <td>0</td>\n",
       "      <td>0</td>\n",
       "      <td>0</td>\n",
       "    </tr>\n",
       "    <tr>\n",
       "      <th>Feature - Bracket</th>\n",
       "      <td>0</td>\n",
       "      <td>0</td>\n",
       "      <td>0</td>\n",
       "    </tr>\n",
       "    <tr>\n",
       "      <th>Feature - Double step</th>\n",
       "      <td>0</td>\n",
       "      <td>0</td>\n",
       "      <td>0.526567</td>\n",
       "    </tr>\n",
       "    <tr>\n",
       "      <th>Feature - Footswitch</th>\n",
       "      <td>0</td>\n",
       "      <td>0</td>\n",
       "      <td>0</td>\n",
       "    </tr>\n",
       "    <tr>\n",
       "      <th>Feature - Jack</th>\n",
       "      <td>0</td>\n",
       "      <td>0</td>\n",
       "      <td>0</td>\n",
       "    </tr>\n",
       "    <tr>\n",
       "      <th>Feature - Bracket footswitch</th>\n",
       "      <td>0</td>\n",
       "      <td>0</td>\n",
       "      <td>0</td>\n",
       "    </tr>\n",
       "    <tr>\n",
       "      <th>Feature - Hold tap single foot</th>\n",
       "      <td>0</td>\n",
       "      <td>0</td>\n",
       "      <td>0</td>\n",
       "    </tr>\n",
       "    <tr>\n",
       "      <th>Feature - Hold footslide</th>\n",
       "      <td>0</td>\n",
       "      <td>0</td>\n",
       "      <td>0</td>\n",
       "    </tr>\n",
       "    <tr>\n",
       "      <th>Feature - Hold footswitch</th>\n",
       "      <td>0</td>\n",
       "      <td>0</td>\n",
       "      <td>0</td>\n",
       "    </tr>\n",
       "    <tr>\n",
       "      <th>Feature - Staggered hit</th>\n",
       "      <td>0</td>\n",
       "      <td>0</td>\n",
       "      <td>0</td>\n",
       "    </tr>\n",
       "    <tr>\n",
       "      <th>Feature - Hands</th>\n",
       "      <td>0</td>\n",
       "      <td>0</td>\n",
       "      <td>0</td>\n",
       "    </tr>\n",
       "    <tr>\n",
       "      <th>Feature - Drill</th>\n",
       "      <td>0</td>\n",
       "      <td>0</td>\n",
       "      <td>0</td>\n",
       "    </tr>\n",
       "    <tr>\n",
       "      <th>Feature - Run</th>\n",
       "      <td>0.68727</td>\n",
       "      <td>0.939662</td>\n",
       "      <td>0.872616</td>\n",
       "    </tr>\n",
       "    <tr>\n",
       "      <th>Feature - Bracket drill</th>\n",
       "      <td>0</td>\n",
       "      <td>0</td>\n",
       "      <td>0</td>\n",
       "    </tr>\n",
       "    <tr>\n",
       "      <th>Feature - Irregular rhythm</th>\n",
       "      <td>0.585725</td>\n",
       "      <td>0.501104</td>\n",
       "      <td>0.480245</td>\n",
       "    </tr>\n",
       "    <tr>\n",
       "      <th>Feature - Rhythm change</th>\n",
       "      <td>0.0573951</td>\n",
       "      <td>0.235467</td>\n",
       "      <td>0.0803815</td>\n",
       "    </tr>\n",
       "    <tr>\n",
       "      <th>Feature - Bracket jump run</th>\n",
       "      <td>0</td>\n",
       "      <td>0</td>\n",
       "      <td>0</td>\n",
       "    </tr>\n",
       "    <tr>\n",
       "      <th>Feature - Side3 singles</th>\n",
       "      <td>0</td>\n",
       "      <td>0</td>\n",
       "      <td>0.907357</td>\n",
       "    </tr>\n",
       "    <tr>\n",
       "      <th>Feature - Mid4 doubles</th>\n",
       "      <td>0</td>\n",
       "      <td>0</td>\n",
       "      <td>0</td>\n",
       "    </tr>\n",
       "    <tr>\n",
       "      <th>Feature - Mid6 doubles</th>\n",
       "      <td>0</td>\n",
       "      <td>0</td>\n",
       "      <td>0</td>\n",
       "    </tr>\n",
       "    <tr>\n",
       "      <th>Feature - Run with brackets</th>\n",
       "      <td>0</td>\n",
       "      <td>0</td>\n",
       "      <td>0</td>\n",
       "    </tr>\n",
       "    <tr>\n",
       "      <th>Feature - Jump run</th>\n",
       "      <td>0</td>\n",
       "      <td>0</td>\n",
       "      <td>0</td>\n",
       "    </tr>\n",
       "    <tr>\n",
       "      <th>Feature - Stairs, doubles</th>\n",
       "      <td>0</td>\n",
       "      <td>0</td>\n",
       "      <td>0</td>\n",
       "    </tr>\n",
       "    <tr>\n",
       "      <th>Feature - Stairs, singles</th>\n",
       "      <td>0</td>\n",
       "      <td>0</td>\n",
       "      <td>0</td>\n",
       "    </tr>\n",
       "    <tr>\n",
       "      <th>Feature - Broken stairs, doubles</th>\n",
       "      <td>0</td>\n",
       "      <td>0</td>\n",
       "      <td>0</td>\n",
       "    </tr>\n",
       "    <tr>\n",
       "      <th>Feature - Spin</th>\n",
       "      <td>0</td>\n",
       "      <td>0</td>\n",
       "      <td>0</td>\n",
       "    </tr>\n",
       "    <tr>\n",
       "      <th>Feature - Twist solo diagonal</th>\n",
       "      <td>0</td>\n",
       "      <td>0</td>\n",
       "      <td>0</td>\n",
       "    </tr>\n",
       "    <tr>\n",
       "      <th>Feature - Twist angle - none</th>\n",
       "      <td>0.895511</td>\n",
       "      <td>0.896247</td>\n",
       "      <td>0.98842</td>\n",
       "    </tr>\n",
       "    <tr>\n",
       "      <th>Feature - Twist angle - 90</th>\n",
       "      <td>0</td>\n",
       "      <td>0</td>\n",
       "      <td>0</td>\n",
       "    </tr>\n",
       "    <tr>\n",
       "      <th>Feature - Twist angle - close diagonal</th>\n",
       "      <td>0</td>\n",
       "      <td>0</td>\n",
       "      <td>0</td>\n",
       "    </tr>\n",
       "    <tr>\n",
       "      <th>Feature - Twist angle - far diagonal</th>\n",
       "      <td>0</td>\n",
       "      <td>0</td>\n",
       "      <td>0</td>\n",
       "    </tr>\n",
       "    <tr>\n",
       "      <th>Feature - Twist angle - 180</th>\n",
       "      <td>0</td>\n",
       "      <td>0</td>\n",
       "      <td>0</td>\n",
       "    </tr>\n",
       "    <tr>\n",
       "      <th>Name (unique)</th>\n",
       "      <td>Super Fantasy - SHK S16 arcade</td>\n",
       "      <td>Hi-Bi - BanYa S16 arcade</td>\n",
       "      <td>Conflict - Siromaru + Cranky S17 arcade</td>\n",
       "    </tr>\n",
       "    <tr>\n",
       "      <th>Level</th>\n",
       "      <td>16</td>\n",
       "      <td>16</td>\n",
       "      <td>17</td>\n",
       "    </tr>\n",
       "    <tr>\n",
       "      <th>Is singles</th>\n",
       "      <td>True</td>\n",
       "      <td>True</td>\n",
       "      <td>True</td>\n",
       "    </tr>\n",
       "    <tr>\n",
       "      <th>Is doubles</th>\n",
       "      <td>False</td>\n",
       "      <td>False</td>\n",
       "      <td>False</td>\n",
       "    </tr>\n",
       "  </tbody>\n",
       "</table>\n",
       "</div>"
      ],
      "text/plain": [
       "                                                                  3588  \\\n",
       "Feature - Splits                                                     0   \n",
       "Feature - Triple                                                     0   \n",
       "Feature - Quad                                                       0   \n",
       "Feature - Jump                                                       0   \n",
       "Feature - Bracket                                                    0   \n",
       "Feature - Double step                                                0   \n",
       "Feature - Footswitch                                                 0   \n",
       "Feature - Jack                                                       0   \n",
       "Feature - Bracket footswitch                                         0   \n",
       "Feature - Hold tap single foot                                       0   \n",
       "Feature - Hold footslide                                             0   \n",
       "Feature - Hold footswitch                                            0   \n",
       "Feature - Staggered hit                                              0   \n",
       "Feature - Hands                                                      0   \n",
       "Feature - Drill                                                      0   \n",
       "Feature - Run                                                  0.68727   \n",
       "Feature - Bracket drill                                              0   \n",
       "Feature - Irregular rhythm                                    0.585725   \n",
       "Feature - Rhythm change                                      0.0573951   \n",
       "Feature - Bracket jump run                                           0   \n",
       "Feature - Side3 singles                                              0   \n",
       "Feature - Mid4 doubles                                               0   \n",
       "Feature - Mid6 doubles                                               0   \n",
       "Feature - Run with brackets                                          0   \n",
       "Feature - Jump run                                                   0   \n",
       "Feature - Stairs, doubles                                            0   \n",
       "Feature - Stairs, singles                                            0   \n",
       "Feature - Broken stairs, doubles                                     0   \n",
       "Feature - Spin                                                       0   \n",
       "Feature - Twist solo diagonal                                        0   \n",
       "Feature - Twist angle - none                                  0.895511   \n",
       "Feature - Twist angle - 90                                           0   \n",
       "Feature - Twist angle - close diagonal                               0   \n",
       "Feature - Twist angle - far diagonal                                 0   \n",
       "Feature - Twist angle - 180                                          0   \n",
       "Name (unique)                           Super Fantasy - SHK S16 arcade   \n",
       "Level                                                               16   \n",
       "Is singles                                                        True   \n",
       "Is doubles                                                       False   \n",
       "\n",
       "                                                            3676  \\\n",
       "Feature - Splits                                               0   \n",
       "Feature - Triple                                               0   \n",
       "Feature - Quad                                                 0   \n",
       "Feature - Jump                                                 0   \n",
       "Feature - Bracket                                              0   \n",
       "Feature - Double step                                          0   \n",
       "Feature - Footswitch                                           0   \n",
       "Feature - Jack                                                 0   \n",
       "Feature - Bracket footswitch                                   0   \n",
       "Feature - Hold tap single foot                                 0   \n",
       "Feature - Hold footslide                                       0   \n",
       "Feature - Hold footswitch                                      0   \n",
       "Feature - Staggered hit                                        0   \n",
       "Feature - Hands                                                0   \n",
       "Feature - Drill                                                0   \n",
       "Feature - Run                                           0.939662   \n",
       "Feature - Bracket drill                                        0   \n",
       "Feature - Irregular rhythm                              0.501104   \n",
       "Feature - Rhythm change                                 0.235467   \n",
       "Feature - Bracket jump run                                     0   \n",
       "Feature - Side3 singles                                        0   \n",
       "Feature - Mid4 doubles                                         0   \n",
       "Feature - Mid6 doubles                                         0   \n",
       "Feature - Run with brackets                                    0   \n",
       "Feature - Jump run                                             0   \n",
       "Feature - Stairs, doubles                                      0   \n",
       "Feature - Stairs, singles                                      0   \n",
       "Feature - Broken stairs, doubles                               0   \n",
       "Feature - Spin                                                 0   \n",
       "Feature - Twist solo diagonal                                  0   \n",
       "Feature - Twist angle - none                            0.896247   \n",
       "Feature - Twist angle - 90                                     0   \n",
       "Feature - Twist angle - close diagonal                         0   \n",
       "Feature - Twist angle - far diagonal                           0   \n",
       "Feature - Twist angle - 180                                    0   \n",
       "Name (unique)                           Hi-Bi - BanYa S16 arcade   \n",
       "Level                                                         16   \n",
       "Is singles                                                  True   \n",
       "Is doubles                                                 False   \n",
       "\n",
       "                                                                           3881  \n",
       "Feature - Splits                                                              0  \n",
       "Feature - Triple                                                              0  \n",
       "Feature - Quad                                                                0  \n",
       "Feature - Jump                                                                0  \n",
       "Feature - Bracket                                                             0  \n",
       "Feature - Double step                                                  0.526567  \n",
       "Feature - Footswitch                                                          0  \n",
       "Feature - Jack                                                                0  \n",
       "Feature - Bracket footswitch                                                  0  \n",
       "Feature - Hold tap single foot                                                0  \n",
       "Feature - Hold footslide                                                      0  \n",
       "Feature - Hold footswitch                                                     0  \n",
       "Feature - Staggered hit                                                       0  \n",
       "Feature - Hands                                                               0  \n",
       "Feature - Drill                                                               0  \n",
       "Feature - Run                                                          0.872616  \n",
       "Feature - Bracket drill                                                       0  \n",
       "Feature - Irregular rhythm                                             0.480245  \n",
       "Feature - Rhythm change                                               0.0803815  \n",
       "Feature - Bracket jump run                                                    0  \n",
       "Feature - Side3 singles                                                0.907357  \n",
       "Feature - Mid4 doubles                                                        0  \n",
       "Feature - Mid6 doubles                                                        0  \n",
       "Feature - Run with brackets                                                   0  \n",
       "Feature - Jump run                                                            0  \n",
       "Feature - Stairs, doubles                                                     0  \n",
       "Feature - Stairs, singles                                                     0  \n",
       "Feature - Broken stairs, doubles                                              0  \n",
       "Feature - Spin                                                                0  \n",
       "Feature - Twist solo diagonal                                                 0  \n",
       "Feature - Twist angle - none                                            0.98842  \n",
       "Feature - Twist angle - 90                                                    0  \n",
       "Feature - Twist angle - close diagonal                                        0  \n",
       "Feature - Twist angle - far diagonal                                          0  \n",
       "Feature - Twist angle - 180                                                   0  \n",
       "Name (unique)                           Conflict - Siromaru + Cranky S17 arcade  \n",
       "Level                                                                        17  \n",
       "Is singles                                                                 True  \n",
       "Is doubles                                                                False  "
      ]
     },
     "execution_count": 168,
     "metadata": {},
     "output_type": "execute_result"
    }
   ],
   "source": [
    "comp = [\n",
    "    'Super Fantasy - SHK S16 arcade', \n",
    "    'Conflict - Siromaru + Cranky S17 arcade',\n",
    "    'Hi-Bi - BanYa S16 arcade',\n",
    "]\n",
    "df_subset[df_subset['Name (unique)'].isin(comp)].T"
   ]
  },
  {
   "cell_type": "code",
   "execution_count": 87,
   "metadata": {
    "ExecuteTime": {
     "end_time": "2021-07-29T03:40:59.133776Z",
     "start_time": "2021-07-29T03:40:59.125533Z"
    }
   },
   "outputs": [
    {
     "data": {
      "text/plain": [
       "0.7294292988043192"
      ]
     },
     "execution_count": 87,
     "metadata": {},
     "output_type": "execute_result"
    }
   ],
   "source": [
    "get_dist(\n",
    "    df_subset, \n",
    "    '8 6 - DASU S20 arcade',\n",
    "    'Nakakapagpabagabag - Dasu feat. Kagamine Len S18 arcade',\n",
    ")"
   ]
  },
  {
   "cell_type": "code",
   "execution_count": 88,
   "metadata": {
    "ExecuteTime": {
     "end_time": "2021-07-29T03:42:08.575688Z",
     "start_time": "2021-07-29T03:42:08.564307Z"
    }
   },
   "outputs": [
    {
     "data": {
      "text/plain": [
       "0.17263193944135724"
      ]
     },
     "execution_count": 88,
     "metadata": {},
     "output_type": "execute_result"
    }
   ],
   "source": [
    "get_dist(\n",
    "    df_subset, \n",
    "    '8 6 - DASU S20 arcade',\n",
    "    'GLORIA - Croire S23 arcade',\n",
    ")"
   ]
  },
  {
   "cell_type": "code",
   "execution_count": 77,
   "metadata": {
    "ExecuteTime": {
     "end_time": "2021-07-29T03:34:08.916406Z",
     "start_time": "2021-07-29T03:34:08.898971Z"
    }
   },
   "outputs": [
    {
     "data": {
      "text/html": [
       "<div>\n",
       "<style scoped>\n",
       "    .dataframe tbody tr th:only-of-type {\n",
       "        vertical-align: middle;\n",
       "    }\n",
       "\n",
       "    .dataframe tbody tr th {\n",
       "        vertical-align: top;\n",
       "    }\n",
       "\n",
       "    .dataframe thead th {\n",
       "        text-align: right;\n",
       "    }\n",
       "</style>\n",
       "<table border=\"1\" class=\"dataframe\">\n",
       "  <thead>\n",
       "    <tr style=\"text-align: right;\">\n",
       "      <th></th>\n",
       "      <th>3950</th>\n",
       "      <th>4369</th>\n",
       "    </tr>\n",
       "  </thead>\n",
       "  <tbody>\n",
       "    <tr>\n",
       "      <th>Feature - Splits</th>\n",
       "      <td>0</td>\n",
       "      <td>0</td>\n",
       "    </tr>\n",
       "    <tr>\n",
       "      <th>Feature - Triple</th>\n",
       "      <td>0.996149</td>\n",
       "      <td>0.521706</td>\n",
       "    </tr>\n",
       "    <tr>\n",
       "      <th>Feature - Quad</th>\n",
       "      <td>0</td>\n",
       "      <td>0</td>\n",
       "    </tr>\n",
       "    <tr>\n",
       "      <th>Feature - Jump</th>\n",
       "      <td>0.921694</td>\n",
       "      <td>0.0693069</td>\n",
       "    </tr>\n",
       "    <tr>\n",
       "      <th>Feature - Bracket</th>\n",
       "      <td>0.990372</td>\n",
       "      <td>0.928408</td>\n",
       "    </tr>\n",
       "    <tr>\n",
       "      <th>Feature - Double step</th>\n",
       "      <td>0.842105</td>\n",
       "      <td>0.928408</td>\n",
       "    </tr>\n",
       "    <tr>\n",
       "      <th>Feature - Footswitch</th>\n",
       "      <td>0</td>\n",
       "      <td>0</td>\n",
       "    </tr>\n",
       "    <tr>\n",
       "      <th>Feature - Jack</th>\n",
       "      <td>0.292041</td>\n",
       "      <td>0</td>\n",
       "    </tr>\n",
       "    <tr>\n",
       "      <th>Feature - Bracket footswitch</th>\n",
       "      <td>0</td>\n",
       "      <td>0</td>\n",
       "    </tr>\n",
       "    <tr>\n",
       "      <th>Feature - Hold tap single foot</th>\n",
       "      <td>0.981386</td>\n",
       "      <td>0.965727</td>\n",
       "    </tr>\n",
       "    <tr>\n",
       "      <th>Feature - Hold footslide</th>\n",
       "      <td>0</td>\n",
       "      <td>0</td>\n",
       "    </tr>\n",
       "    <tr>\n",
       "      <th>Feature - Hold footswitch</th>\n",
       "      <td>0.999358</td>\n",
       "      <td>0.998477</td>\n",
       "    </tr>\n",
       "    <tr>\n",
       "      <th>Feature - Staggered hit</th>\n",
       "      <td>0</td>\n",
       "      <td>0</td>\n",
       "    </tr>\n",
       "    <tr>\n",
       "      <th>Feature - Hands</th>\n",
       "      <td>0</td>\n",
       "      <td>0</td>\n",
       "    </tr>\n",
       "    <tr>\n",
       "      <th>Feature - Drill</th>\n",
       "      <td>0</td>\n",
       "      <td>0</td>\n",
       "    </tr>\n",
       "    <tr>\n",
       "      <th>Feature - Run</th>\n",
       "      <td>0.00577664</td>\n",
       "      <td>0.00609292</td>\n",
       "    </tr>\n",
       "    <tr>\n",
       "      <th>Feature - Bracket drill</th>\n",
       "      <td>0</td>\n",
       "      <td>0</td>\n",
       "    </tr>\n",
       "    <tr>\n",
       "      <th>Feature - Irregular rhythm</th>\n",
       "      <td>0.117458</td>\n",
       "      <td>0.0540746</td>\n",
       "    </tr>\n",
       "    <tr>\n",
       "      <th>Feature - Rhythm change</th>\n",
       "      <td>0.021181</td>\n",
       "      <td>0.033511</td>\n",
       "    </tr>\n",
       "    <tr>\n",
       "      <th>Feature - Bracket jump run</th>\n",
       "      <td>0.997433</td>\n",
       "      <td>0</td>\n",
       "    </tr>\n",
       "    <tr>\n",
       "      <th>Feature - Side3 singles</th>\n",
       "      <td>0.787548</td>\n",
       "      <td>0.546078</td>\n",
       "    </tr>\n",
       "    <tr>\n",
       "      <th>Feature - Mid4 doubles</th>\n",
       "      <td>0</td>\n",
       "      <td>0</td>\n",
       "    </tr>\n",
       "    <tr>\n",
       "      <th>Feature - Mid6 doubles</th>\n",
       "      <td>0</td>\n",
       "      <td>0</td>\n",
       "    </tr>\n",
       "    <tr>\n",
       "      <th>Feature - Run with brackets</th>\n",
       "      <td>0</td>\n",
       "      <td>0</td>\n",
       "    </tr>\n",
       "    <tr>\n",
       "      <th>Feature - Jump run</th>\n",
       "      <td>0.980745</td>\n",
       "      <td>0</td>\n",
       "    </tr>\n",
       "    <tr>\n",
       "      <th>Feature - Stairs, doubles</th>\n",
       "      <td>0</td>\n",
       "      <td>0</td>\n",
       "    </tr>\n",
       "    <tr>\n",
       "      <th>Feature - Stairs, singles</th>\n",
       "      <td>0</td>\n",
       "      <td>0.767708</td>\n",
       "    </tr>\n",
       "    <tr>\n",
       "      <th>Feature - Broken stairs, doubles</th>\n",
       "      <td>0</td>\n",
       "      <td>0</td>\n",
       "    </tr>\n",
       "    <tr>\n",
       "      <th>Feature - Spin</th>\n",
       "      <td>0</td>\n",
       "      <td>0</td>\n",
       "    </tr>\n",
       "    <tr>\n",
       "      <th>Feature - Twist solo diagonal</th>\n",
       "      <td>0.660462</td>\n",
       "      <td>0.666413</td>\n",
       "    </tr>\n",
       "    <tr>\n",
       "      <th>Feature - Twist angle - none</th>\n",
       "      <td>0.7638</td>\n",
       "      <td>0.854532</td>\n",
       "    </tr>\n",
       "    <tr>\n",
       "      <th>Feature - Twist angle - 90</th>\n",
       "      <td>0.151476</td>\n",
       "      <td>0.0868241</td>\n",
       "    </tr>\n",
       "    <tr>\n",
       "      <th>Feature - Twist angle - close diagonal</th>\n",
       "      <td>0.646983</td>\n",
       "      <td>0.377761</td>\n",
       "    </tr>\n",
       "    <tr>\n",
       "      <th>Feature - Twist angle - far diagonal</th>\n",
       "      <td>0</td>\n",
       "      <td>0.927647</td>\n",
       "    </tr>\n",
       "    <tr>\n",
       "      <th>Feature - Twist angle - 180</th>\n",
       "      <td>0</td>\n",
       "      <td>0</td>\n",
       "    </tr>\n",
       "    <tr>\n",
       "      <th>Name (unique)</th>\n",
       "      <td>Nakakapagpabagabag - Dasu feat. Kagamine Len S...</td>\n",
       "      <td>8 6 - DASU S20 arcade</td>\n",
       "    </tr>\n",
       "    <tr>\n",
       "      <th>Level</th>\n",
       "      <td>18</td>\n",
       "      <td>20</td>\n",
       "    </tr>\n",
       "    <tr>\n",
       "      <th>Is singles</th>\n",
       "      <td>True</td>\n",
       "      <td>True</td>\n",
       "    </tr>\n",
       "    <tr>\n",
       "      <th>Is doubles</th>\n",
       "      <td>False</td>\n",
       "      <td>False</td>\n",
       "    </tr>\n",
       "  </tbody>\n",
       "</table>\n",
       "</div>"
      ],
      "text/plain": [
       "                                                                                     3950  \\\n",
       "Feature - Splits                                                                        0   \n",
       "Feature - Triple                                                                 0.996149   \n",
       "Feature - Quad                                                                          0   \n",
       "Feature - Jump                                                                   0.921694   \n",
       "Feature - Bracket                                                                0.990372   \n",
       "Feature - Double step                                                            0.842105   \n",
       "Feature - Footswitch                                                                    0   \n",
       "Feature - Jack                                                                   0.292041   \n",
       "Feature - Bracket footswitch                                                            0   \n",
       "Feature - Hold tap single foot                                                   0.981386   \n",
       "Feature - Hold footslide                                                                0   \n",
       "Feature - Hold footswitch                                                        0.999358   \n",
       "Feature - Staggered hit                                                                 0   \n",
       "Feature - Hands                                                                         0   \n",
       "Feature - Drill                                                                         0   \n",
       "Feature - Run                                                                  0.00577664   \n",
       "Feature - Bracket drill                                                                 0   \n",
       "Feature - Irregular rhythm                                                       0.117458   \n",
       "Feature - Rhythm change                                                          0.021181   \n",
       "Feature - Bracket jump run                                                       0.997433   \n",
       "Feature - Side3 singles                                                          0.787548   \n",
       "Feature - Mid4 doubles                                                                  0   \n",
       "Feature - Mid6 doubles                                                                  0   \n",
       "Feature - Run with brackets                                                             0   \n",
       "Feature - Jump run                                                               0.980745   \n",
       "Feature - Stairs, doubles                                                               0   \n",
       "Feature - Stairs, singles                                                               0   \n",
       "Feature - Broken stairs, doubles                                                        0   \n",
       "Feature - Spin                                                                          0   \n",
       "Feature - Twist solo diagonal                                                    0.660462   \n",
       "Feature - Twist angle - none                                                       0.7638   \n",
       "Feature - Twist angle - 90                                                       0.151476   \n",
       "Feature - Twist angle - close diagonal                                           0.646983   \n",
       "Feature - Twist angle - far diagonal                                                    0   \n",
       "Feature - Twist angle - 180                                                             0   \n",
       "Name (unique)                           Nakakapagpabagabag - Dasu feat. Kagamine Len S...   \n",
       "Level                                                                                  18   \n",
       "Is singles                                                                           True   \n",
       "Is doubles                                                                          False   \n",
       "\n",
       "                                                         4369  \n",
       "Feature - Splits                                            0  \n",
       "Feature - Triple                                     0.521706  \n",
       "Feature - Quad                                              0  \n",
       "Feature - Jump                                      0.0693069  \n",
       "Feature - Bracket                                    0.928408  \n",
       "Feature - Double step                                0.928408  \n",
       "Feature - Footswitch                                        0  \n",
       "Feature - Jack                                              0  \n",
       "Feature - Bracket footswitch                                0  \n",
       "Feature - Hold tap single foot                       0.965727  \n",
       "Feature - Hold footslide                                    0  \n",
       "Feature - Hold footswitch                            0.998477  \n",
       "Feature - Staggered hit                                     0  \n",
       "Feature - Hands                                             0  \n",
       "Feature - Drill                                             0  \n",
       "Feature - Run                                      0.00609292  \n",
       "Feature - Bracket drill                                     0  \n",
       "Feature - Irregular rhythm                          0.0540746  \n",
       "Feature - Rhythm change                              0.033511  \n",
       "Feature - Bracket jump run                                  0  \n",
       "Feature - Side3 singles                              0.546078  \n",
       "Feature - Mid4 doubles                                      0  \n",
       "Feature - Mid6 doubles                                      0  \n",
       "Feature - Run with brackets                                 0  \n",
       "Feature - Jump run                                          0  \n",
       "Feature - Stairs, doubles                                   0  \n",
       "Feature - Stairs, singles                            0.767708  \n",
       "Feature - Broken stairs, doubles                            0  \n",
       "Feature - Spin                                              0  \n",
       "Feature - Twist solo diagonal                        0.666413  \n",
       "Feature - Twist angle - none                         0.854532  \n",
       "Feature - Twist angle - 90                          0.0868241  \n",
       "Feature - Twist angle - close diagonal               0.377761  \n",
       "Feature - Twist angle - far diagonal                 0.927647  \n",
       "Feature - Twist angle - 180                                 0  \n",
       "Name (unique)                           8 6 - DASU S20 arcade  \n",
       "Level                                                      20  \n",
       "Is singles                                               True  \n",
       "Is doubles                                              False  "
      ]
     },
     "execution_count": 77,
     "metadata": {},
     "output_type": "execute_result"
    }
   ],
   "source": [
    "comp = [\n",
    "    '8 6 - DASU S20 arcade',\n",
    "    'Nakakapagpabagabag - Dasu feat. Kagamine Len S18 arcade',\n",
    "]\n",
    "df_subset[df_subset['Name (unique)'].isin(comp)].T"
   ]
  },
  {
   "cell_type": "code",
   "execution_count": null,
   "metadata": {},
   "outputs": [],
   "source": []
  }
 ],
 "metadata": {
  "kernelspec": {
   "display_name": "Python 3",
   "language": "python",
   "name": "python3"
  },
  "language_info": {
   "codemirror_mode": {
    "name": "ipython",
    "version": 3
   },
   "file_extension": ".py",
   "mimetype": "text/x-python",
   "name": "python",
   "nbconvert_exporter": "python",
   "pygments_lexer": "ipython3",
   "version": "3.6.12"
  },
  "varInspector": {
   "cols": {
    "lenName": 16,
    "lenType": 16,
    "lenVar": 40
   },
   "kernels_config": {
    "python": {
     "delete_cmd_postfix": "",
     "delete_cmd_prefix": "del ",
     "library": "var_list.py",
     "varRefreshCmd": "print(var_dic_list())"
    },
    "r": {
     "delete_cmd_postfix": ") ",
     "delete_cmd_prefix": "rm(",
     "library": "var_list.r",
     "varRefreshCmd": "cat(var_dic_list()) "
    }
   },
   "types_to_exclude": [
    "module",
    "function",
    "builtin_function_or_method",
    "instance",
    "_Feature"
   ],
   "window_display": false
  }
 },
 "nbformat": 4,
 "nbformat_minor": 2
}
